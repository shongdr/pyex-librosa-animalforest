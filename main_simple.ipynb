{
 "cells": [
  {
   "cell_type": "code",
   "execution_count": 1,
   "metadata": {},
   "outputs": [],
   "source": [
    "from gtts import gTTS\n",
    "from pydub import AudioSegment\n",
    "import random, os"
   ]
  },
  {
   "cell_type": "markdown",
   "metadata": {},
   "source": [
    "# Create Directory for Cache and Result"
   ]
  },
  {
   "cell_type": "code",
   "execution_count": 2,
   "metadata": {},
   "outputs": [],
   "source": [
    "os.makedirs('samples', exist_ok=True)\n",
    "os.makedirs('result', exist_ok=True)"
   ]
  },
  {
   "cell_type": "markdown",
   "metadata": {},
   "source": [
    "# Define Input"
   ]
  },
  {
   "cell_type": "code",
   "execution_count": 3,
   "metadata": {},
   "outputs": [
    {
     "name": "stdout",
     "output_type": "stream",
     "text": [
      "여러분\n"
     ]
    }
   ],
   "source": [
    "string = '여러분'\n",
    "lang = 'ko'\n",
    "random_factor = 0.45\n",
    "normal_frame_rate = 44100\n",
    "\n",
    "print(string)"
   ]
  },
  {
   "cell_type": "code",
   "execution_count": 4,
   "metadata": {},
   "outputs": [],
   "source": [
    "# 인식안될 때, https://ffmpeg.org/download.html 파일 공유해야함 ffmpeg-20200831-4a11a6f-win64-static.zip\n",
    "AudioSegment.converter = \"C:/Users/Administrator/lect_py/pyex/voice-animalforest/ffmpeg/bin/ffmpeg.exe\" "
   ]
  },
  {
   "cell_type": "markdown",
   "metadata": {},
   "source": [
    "# Process Audio"
   ]
  },
  {
   "cell_type": "code",
   "execution_count": 5,
   "metadata": {},
   "outputs": [
    {
     "name": "stdout",
     "output_type": "stream",
     "text": [
      "여 - octaves: 2.43, fr: 64415\n",
      "<pydub.audio_segment.AudioSegment object at 0x0000018B64435B20>\n",
      "러 - octaves: 2.07, fr: 55541\n",
      "<pydub.audio_segment.AudioSegment object at 0x0000018B64435700>\n",
      "분 - octaves: 2.29, fr: 60741\n",
      "<pydub.audio_segment.AudioSegment object at 0x0000018B64435E50>\n"
     ]
    },
    {
     "data": {
      "text/html": [
       "\n",
       "                    <audio controls>\n",
       "                        <source src=\"data:audio/mpeg;base64,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\" type=\"audio/mpeg\"/>\n",
       "                        Your browser does not support the audio element.\n",
       "                    </audio>\n",
       "                  "
      ],
      "text/plain": [
       "<pydub.audio_segment.AudioSegment at 0x18b64435e50>"
      ]
     },
     "execution_count": 5,
     "metadata": {},
     "output_type": "execute_result"
    }
   ],
   "source": [
    "# -*- coding: UTF-8 -*-\n",
    "\n",
    "result_sound = None\n",
    "\n",
    "for i, letter in enumerate(string):\n",
    "    if letter == ' ': # fill empty sound\n",
    "        new_sound = letter_sound._spawn(b'\\x00' * (normal_frame_rate // 3), overrides={'frame_rate': normal_frame_rate})\n",
    "    else: # fill tts sound\n",
    "        # create tts if sample sound not exist\n",
    "        if not os.path.isfile('samples/%s.mp3' % letter):\n",
    "            tts = gTTS(letter, lang=lang)\n",
    "            tts.save('samples/%s.mp3' % letter)\n",
    "\n",
    "        # load sample sound\n",
    "        letter_sound = AudioSegment.from_mp3('samples/%s.mp3' % letter)\n",
    "\n",
    "        # slice out head and tail part of audio\n",
    "        raw = letter_sound.raw_data[5000:-5000]\n",
    "\n",
    "        # adjust pitch around +2\n",
    "        octaves = 2 + random.random() * random_factor\n",
    "        frame_rate = int(letter_sound.frame_rate * (1.5 ** octaves))\n",
    "        print('%s - octaves: %.2f, fr: %.d' % (letter, octaves, frame_rate))\n",
    "\n",
    "        new_sound = letter_sound._spawn(raw, overrides={'frame_rate': frame_rate})\n",
    "\n",
    "    # set frame rate to normal(44100) and combine letter sounds\n",
    "    new_sound = new_sound.set_frame_rate(normal_frame_rate)\n",
    "    result_sound = new_sound if result_sound is None else result_sound + new_sound\n",
    "    print(result_sound)\n",
    "result_sound"
   ]
  },
  {
   "cell_type": "code",
   "execution_count": 6,
   "metadata": {},
   "outputs": [
    {
     "data": {
      "text/plain": [
       "<_io.BufferedRandom name='result/여러분.mp3'>"
      ]
     },
     "execution_count": 6,
     "metadata": {},
     "output_type": "execute_result"
    }
   ],
   "source": [
    "result_sound.export('result/%s.mp3' % string, format='mp3')"
   ]
  }
 ],
 "metadata": {
  "kernelspec": {
   "display_name": "Python 3",
   "language": "python",
   "name": "python3"
  },
  "language_info": {
   "codemirror_mode": {
    "name": "ipython",
    "version": 3
   },
   "file_extension": ".py",
   "mimetype": "text/x-python",
   "name": "python",
   "nbconvert_exporter": "python",
   "pygments_lexer": "ipython3",
   "version": "3.8.5"
  }
 },
 "nbformat": 4,
 "nbformat_minor": 4
}
