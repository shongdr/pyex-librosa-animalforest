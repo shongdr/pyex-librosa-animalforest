{
 "cells": [
  {
   "cell_type": "code",
   "execution_count": 1,
   "metadata": {},
   "outputs": [],
   "source": [
    "from gtts import gTTS\n",
    "from pydub import AudioSegment\n",
    "import random, os"
   ]
  },
  {
   "cell_type": "markdown",
   "metadata": {},
   "source": [
    "# Create Directory for Cache and Result"
   ]
  },
  {
   "cell_type": "code",
   "execution_count": 2,
   "metadata": {},
   "outputs": [],
   "source": [
    "os.makedirs('samples', exist_ok=True)\n",
    "os.makedirs('result', exist_ok=True)"
   ]
  },
  {
   "cell_type": "markdown",
   "metadata": {},
   "source": [
    "# Define Input"
   ]
  },
  {
   "cell_type": "code",
   "execution_count": 3,
   "metadata": {},
   "outputs": [
    {
     "name": "stdout",
     "output_type": "stream",
     "text": [
      "안녕하세요 너굴 상회입니다\n"
     ]
    }
   ],
   "source": [
    "string = '안녕하세요 너굴 상회입니다'\n",
    "lang = 'ko'\n",
    "random_factor = 0.45\n",
    "normal_frame_rate = 44100\n",
    "\n",
    "print(string)"
   ]
  },
  {
   "cell_type": "code",
   "execution_count": 5,
   "metadata": {},
   "outputs": [],
   "source": [
    "# 인식안될 때, https://ffmpeg.org/download.html 파일 공유해야함 ffmpeg-20200831-4a11a6f-win64-static.zip\n",
    "# AudioSegment.converter = \"C:/Users/Administrator/voice python/mpeg99/mpeg/bin/ffmpeg.exe\" \n",
    "AudioSegment.converter = \"C:/Users/Administrator/lect_py/pyex/voice-animalforest/ffmpeg/bin/ffmpeg.exe\" "
   ]
  },
  {
   "cell_type": "markdown",
   "metadata": {},
   "source": [
    "# Process Audio"
   ]
  },
  {
   "cell_type": "code",
   "execution_count": 15,
   "metadata": {},
   "outputs": [
    {
     "name": "stdout",
     "output_type": "stream",
     "text": [
      "안 - octaves: 1.81, fr: 84328\n",
      "녕 - octaves: 1.52, fr: 68740\n",
      "하 - octaves: 1.72, fr: 79304\n",
      "세 - octaves: 1.54, fr: 69922\n",
      "요 - octaves: 1.88, fr: 88280\n",
      "너 - octaves: 1.60, fr: 72893\n",
      "굴 - octaves: 1.92, fr: 91001\n",
      "상 - octaves: 1.76, fr: 81561\n",
      "회 - octaves: 1.57, fr: 71050\n",
      "입 - octaves: 1.63, fr: 74262\n",
      "니 - octaves: 1.61, fr: 73317\n",
      "다 - octaves: 1.92, fr: 90588\n"
     ]
    },
    {
     "data": {
      "text/html": [
       "\n",
       "                    <audio controls>\n",
       "                        <source src=\"data:audio/mpeg;base64,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\" type=\"audio/mpeg\"/>\n",
       "                        Your browser does not support the audio element.\n",
       "                    </audio>\n",
       "                  "
      ],
      "text/plain": [
       "<pydub.audio_segment.AudioSegment at 0x14e407b3a00>"
      ]
     },
     "execution_count": 15,
     "metadata": {},
     "output_type": "execute_result"
    }
   ],
   "source": [
    "#-*- coding: UTF-8 -*-\n",
    "\n",
    "result_sound = None\n",
    "\n",
    "for i, letter in enumerate(string):\n",
    "    if letter == ' ': # fill empty sound\n",
    "        new_sound = letter_sound._spawn(b'\\x00' * (normal_frame_rate // 3), overrides={'frame_rate': normal_frame_rate})\n",
    "    else: # fill tts sound\n",
    "        # create tts if sample sound not exist\n",
    "        if not os.path.isfile('samples/%s.mp3' % letter):\n",
    "            tts = gTTS(letter, lang=lang)\n",
    "            tts.save('samples/%s.mp3' % letter)\n",
    "\n",
    "        # load sample sound\n",
    "        letter_sound = AudioSegment.from_mp3('samples/%s.mp3' % letter)\n",
    "\n",
    "        # slice out head and tail part of audio\n",
    "        raw = letter_sound.raw_data[5000:-5000]\n",
    "\n",
    "        # adjust pitch around +2\n",
    "        octaves = 1.5 + random.random() * random_factor\n",
    "        frame_rate = int(letter_sound.frame_rate * (2.0 ** octaves))\n",
    "        print('%s - octaves: %.2f, fr: %.d' % (letter, octaves, frame_rate))\n",
    "\n",
    "        new_sound = letter_sound._spawn(raw, overrides={'frame_rate': frame_rate})\n",
    "\n",
    "    # set frame rate to normal(44100) and combine letter sounds\n",
    "    new_sound = new_sound.set_frame_rate(normal_frame_rate)\n",
    "    result_sound = new_sound if result_sound is None else result_sound + new_sound\n",
    "    \n",
    "result_sound"
   ]
  },
  {
   "cell_type": "code",
   "execution_count": 6,
   "metadata": {},
   "outputs": [
    {
     "ename": "AttributeError",
     "evalue": "'NoneType' object has no attribute 'export'",
     "output_type": "error",
     "traceback": [
      "\u001b[1;31m---------------------------------------------------------------------------\u001b[0m",
      "\u001b[1;31mAttributeError\u001b[0m                            Traceback (most recent call last)",
      "\u001b[1;32m<ipython-input-6-f6a0e90f70d3>\u001b[0m in \u001b[0;36m<module>\u001b[1;34m\u001b[0m\n\u001b[1;32m----> 1\u001b[1;33m \u001b[0mresult_sound\u001b[0m\u001b[1;33m.\u001b[0m\u001b[0mexport\u001b[0m\u001b[1;33m(\u001b[0m\u001b[1;34m'result/%s.mp3'\u001b[0m \u001b[1;33m%\u001b[0m \u001b[0mstring\u001b[0m\u001b[1;33m,\u001b[0m \u001b[0mformat\u001b[0m\u001b[1;33m=\u001b[0m\u001b[1;34m'mp3'\u001b[0m\u001b[1;33m)\u001b[0m\u001b[1;33m\u001b[0m\u001b[1;33m\u001b[0m\u001b[0m\n\u001b[0m",
      "\u001b[1;31mAttributeError\u001b[0m: 'NoneType' object has no attribute 'export'"
     ]
    }
   ],
   "source": [
    "result_sound.export('result/%s.mp3' % string, format='mp3')"
   ]
  },
  {
   "cell_type": "code",
   "execution_count": null,
   "metadata": {},
   "outputs": [],
   "source": []
  }
 ],
 "metadata": {
  "kernelspec": {
   "display_name": "kernel-mypy",
   "language": "python",
   "name": "mypy"
  },
  "language_info": {
   "codemirror_mode": {
    "name": "ipython",
    "version": 3
   },
   "file_extension": ".py",
   "mimetype": "text/x-python",
   "name": "python",
   "nbconvert_exporter": "python",
   "pygments_lexer": "ipython3",
   "version": "3.8.5"
  }
 },
 "nbformat": 4,
 "nbformat_minor": 4
}
