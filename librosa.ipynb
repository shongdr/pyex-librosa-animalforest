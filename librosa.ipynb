{
 "cells": [
  {
   "cell_type": "code",
   "execution_count": 2,
   "metadata": {},
   "outputs": [
    {
     "name": "stdout",
     "output_type": "stream",
     "text": [
      "Requirement already satisfied: librosa in c:\\programdata\\anaconda3\\envs\\py1\\lib\\site-packages (0.8.0)\n",
      "Requirement already satisfied: numpy>=1.15.0 in c:\\programdata\\anaconda3\\envs\\py1\\lib\\site-packages (from librosa) (1.19.2)\n",
      "Requirement already satisfied: audioread>=2.0.0 in c:\\programdata\\anaconda3\\envs\\py1\\lib\\site-packages (from librosa) (2.1.8)\n",
      "Requirement already satisfied: scipy>=1.0.0 in c:\\programdata\\anaconda3\\envs\\py1\\lib\\site-packages (from librosa) (1.5.2)\n",
      "Requirement already satisfied: joblib>=0.14 in c:\\programdata\\anaconda3\\envs\\py1\\lib\\site-packages (from librosa) (0.16.0)\n",
      "Requirement already satisfied: decorator>=3.0.0 in c:\\programdata\\anaconda3\\envs\\py1\\lib\\site-packages (from librosa) (4.4.2)\n",
      "Requirement already satisfied: soundfile>=0.9.0 in c:\\programdata\\anaconda3\\envs\\py1\\lib\\site-packages (from librosa) (0.10.3.post1)\n",
      "Requirement already satisfied: numba>=0.43.0 in c:\\programdata\\anaconda3\\envs\\py1\\lib\\site-packages (from librosa) (0.51.2)\n",
      "Requirement already satisfied: scikit-learn!=0.19.0,>=0.14.0 in c:\\programdata\\anaconda3\\envs\\py1\\lib\\site-packages (from librosa) (0.23.2)\n",
      "Requirement already satisfied: pooch>=1.0 in c:\\programdata\\anaconda3\\envs\\py1\\lib\\site-packages (from librosa) (1.2.0)\n",
      "Requirement already satisfied: resampy>=0.2.2 in c:\\programdata\\anaconda3\\envs\\py1\\lib\\site-packages (from librosa) (0.2.2)\n",
      "Requirement already satisfied: cffi>=1.0 in c:\\programdata\\anaconda3\\envs\\py1\\lib\\site-packages (from soundfile>=0.9.0->librosa) (1.14.2)\n",
      "Requirement already satisfied: setuptools in c:\\programdata\\anaconda3\\envs\\py1\\lib\\site-packages (from numba>=0.43.0->librosa) (49.6.0.post20200814)\n",
      "Requirement already satisfied: llvmlite<0.35,>=0.34.0.dev0 in c:\\programdata\\anaconda3\\envs\\py1\\lib\\site-packages (from numba>=0.43.0->librosa) (0.34.0)\n",
      "Requirement already satisfied: threadpoolctl>=2.0.0 in c:\\programdata\\anaconda3\\envs\\py1\\lib\\site-packages (from scikit-learn!=0.19.0,>=0.14.0->librosa) (2.1.0)\n",
      "Requirement already satisfied: requests in c:\\programdata\\anaconda3\\envs\\py1\\lib\\site-packages (from pooch>=1.0->librosa) (2.24.0)\n",
      "Requirement already satisfied: appdirs in c:\\programdata\\anaconda3\\envs\\py1\\lib\\site-packages (from pooch>=1.0->librosa) (1.4.4)\n",
      "Requirement already satisfied: packaging in c:\\programdata\\anaconda3\\envs\\py1\\lib\\site-packages (from pooch>=1.0->librosa) (20.4)\n",
      "Requirement already satisfied: six>=1.3 in c:\\programdata\\anaconda3\\envs\\py1\\lib\\site-packages (from resampy>=0.2.2->librosa) (1.15.0)\n",
      "Requirement already satisfied: pycparser in c:\\programdata\\anaconda3\\envs\\py1\\lib\\site-packages (from cffi>=1.0->soundfile>=0.9.0->librosa) (2.20)\n",
      "Requirement already satisfied: certifi>=2017.4.17 in c:\\programdata\\anaconda3\\envs\\py1\\lib\\site-packages (from requests->pooch>=1.0->librosa) (2020.6.20)\n",
      "Requirement already satisfied: chardet<4,>=3.0.2 in c:\\programdata\\anaconda3\\envs\\py1\\lib\\site-packages (from requests->pooch>=1.0->librosa) (3.0.4)\n",
      "Requirement already satisfied: idna<3,>=2.5 in c:\\programdata\\anaconda3\\envs\\py1\\lib\\site-packages (from requests->pooch>=1.0->librosa) (2.10)\n",
      "Requirement already satisfied: urllib3!=1.25.0,!=1.25.1,<1.26,>=1.21.1 in c:\\programdata\\anaconda3\\envs\\py1\\lib\\site-packages (from requests->pooch>=1.0->librosa) (1.25.10)\n",
      "Requirement already satisfied: pyparsing>=2.0.2 in c:\\programdata\\anaconda3\\envs\\py1\\lib\\site-packages (from packaging->pooch>=1.0->librosa) (2.4.7)\n",
      "file_dir: samples\n",
      "file_id: 안.mp3\n"
     ]
    }
   ],
   "source": [
    "!pip install librosa\n",
    "import librosa\n",
    "import os\n",
    "mp3_name = 'samples/안.mp3'\n",
    "(file_dir, file_id) = os.path.split(mp3_name)\n",
    "print(\"file_dir:\", file_dir)\n",
    "print(\"file_id:\", file_id)"
   ]
  },
  {
   "cell_type": "code",
   "execution_count": 3,
   "metadata": {},
   "outputs": [
    {
     "name": "stderr",
     "output_type": "stream",
     "text": [
      "C:\\ProgramData\\Anaconda3\\envs\\py1\\lib\\site-packages\\librosa\\core\\audio.py:162: UserWarning: PySoundFile failed. Trying audioread instead.\n",
      "  warnings.warn(\"PySoundFile failed. Trying audioread instead.\")\n"
     ]
    }
   ],
   "source": [
    "import numpy as np\n",
    "import matplotlib.pyplot as plt\n",
    "y, sr = librosa.load(mp3_name, sr=44100)\n"
   ]
  },
  {
   "cell_type": "code",
   "execution_count": 4,
   "metadata": {},
   "outputs": [
    {
     "ename": "AttributeError",
     "evalue": "module 'librosa' has no attribute 'audioread'",
     "output_type": "error",
     "traceback": [
      "\u001b[1;31m---------------------------------------------------------------------------\u001b[0m",
      "\u001b[1;31mAttributeError\u001b[0m                            Traceback (most recent call last)",
      "\u001b[1;32m<ipython-input-4-21cb9d2083af>\u001b[0m in \u001b[0;36m<module>\u001b[1;34m\u001b[0m\n\u001b[1;32m----> 1\u001b[1;33m \u001b[0my\u001b[0m\u001b[1;33m,\u001b[0m \u001b[0msr\u001b[0m \u001b[1;33m=\u001b[0m \u001b[0mlibrosa\u001b[0m\u001b[1;33m.\u001b[0m\u001b[0maudioread\u001b[0m\u001b[1;33m(\u001b[0m\u001b[0mmp3_name\u001b[0m\u001b[1;33m,\u001b[0m \u001b[0msr\u001b[0m\u001b[1;33m=\u001b[0m\u001b[1;36m44100\u001b[0m\u001b[1;33m)\u001b[0m\u001b[1;33m\u001b[0m\u001b[1;33m\u001b[0m\u001b[0m\n\u001b[0m",
      "\u001b[1;31mAttributeError\u001b[0m: module 'librosa' has no attribute 'audioread'"
     ]
    }
   ],
   "source": [
    "y, sr = librosa.audioread(mp3_name, sr=44100)\n"
   ]
  },
  {
   "cell_type": "code",
   "execution_count": null,
   "metadata": {},
   "outputs": [],
   "source": [
    "time = np.linspace(0, len(y)/sr, len(y)) # time axis\n",
    "\n",
    "fig, ax1 = plt.subplots() # plot\n",
    "ax1.plot(time, y, color = 'b', label='speech waveform')\n",
    "ax1.set_ylabel(\"Amplitude\") # y 축\n",
    "ax1.set_xlabel(\"Time [s]\") # x 축\n",
    "plt.title(file_id) # 제목\n",
    "plt.savefig(file_id+'.png')\n",
    "plt.show()"
   ]
  },
  {
   "cell_type": "code",
   "execution_count": null,
   "metadata": {},
   "outputs": [],
   "source": []
  }
 ],
 "metadata": {
  "kernelspec": {
   "display_name": "Python 3",
   "language": "python",
   "name": "python3"
  },
  "language_info": {
   "codemirror_mode": {
    "name": "ipython",
    "version": 3
   },
   "file_extension": ".py",
   "mimetype": "text/x-python",
   "name": "python",
   "nbconvert_exporter": "python",
   "pygments_lexer": "ipython3",
   "version": "3.8.5"
  }
 },
 "nbformat": 4,
 "nbformat_minor": 4
}
